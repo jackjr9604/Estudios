{
 "cells": [
  {
   "cell_type": "markdown",
   "metadata": {},
   "source": [
    "\n",
    "Datos y tipos de gráficos\n",
    "\n",
    "Casi cualquier conjunto de datos que quieras presentar o visualizar estará formado por variables que pueden considerarse de diferentes maneras. La mayoría de las variables pueden considerarse como variables o bien categóricas, o bien numéricas. Por ejemplo, en nuestro conjunto de datos la variable continente es una variable categórica, porque podemos clasificar los países según el continente al que pertenecen, aunque esta clasificación no es inherentemente comparable: no sabemos en qué orden van los continentes (aunque podríamos inventar una forma, como por ejemplo por población total o superficie).\n",
    "\n",
    "También tenemos la variable pob (correspondiente a la población), que es numérica. Las variables numéricas sí tienen un orden natural. En este caso, claramente podemos ordenar los países por su población de mayor a menor o de menor a mayor.\n",
    "\n",
    "Aunque hay cientos de tipos diferentes de gráficos, los principales gráficos en los que nos centraremos son los siguientes:\n",
    "\n",
    "    Tabla\n",
    "    Gráfico de barras\n",
    "    Gráfico Circular\n",
    "    Gráfico de dispersión\n",
    "    Gráfico de líneas\n",
    "    Gráfico de cajas\n",
    "\n",
    "La elección de cuál de ellos es el más adecuado suele depender tanto del tipo de datos que tengas (categóricos, numéricos o ambos) como del tipo de mensaje que desees comunicar. Por ejemplo, puede que quieras mostrar cómo cambian tus datos a lo largo del tiempo, cómo se distribuyen según una tabla de frecuencias o cómo se comparan dos grupos entre sí.\n",
    "\n",
    "Es muy común ver que se utilizan erradamente los tipos de gráficos, o que se presentan mal los datos, incluso dentro de un gráfico correctamente elegido. Por eso, si queremos que nuestro trabajo sea realmente profesional, ¡debemos saber usar nuestras herramientas!\n"
   ]
  },
  {
   "cell_type": "markdown",
   "metadata": {},
   "source": [
    "Gráfico de columnas\n",
    "\n",
    "Para crear este gráfico, selecciona los datos de la tabla dinámica que acabas de crear, selecciona la pestaña Insertar y Columna agrupada dentro de el espacio donde aparecen los gráficos. A menudo, los términos Gráfico de barras y Gráfico de columnas se utilizan indistintamente. Sin embargo, Excel reserva el término Gráfico de Barras para los gráficos en los que las barras son horizontales, y denomina Gráfico de Columnasa gráficos como este. Los datos categóricos pueden visualizarse con barras verticales u horizontales.\n",
    "\n",
    "Verás que este gráfico tiene un aspecto diferente al del ejemplo. Si haces clic con el botón derecho en el gráfico y eliges Formato, deberías ver las opciones para cambiar la apariencia del gráfico. Puedes hacer clic con el botón derecho del ratón en la tabla de datos y ordenar por la población, y experimentar con las opciones de formato."
   ]
  },
  {
   "cell_type": "markdown",
   "metadata": {},
   "source": [
    "\n",
    "Gráfico circular\n",
    "\n",
    "Crear un gráfico circular es similar a crear un gráfico de barras. Selecciona Gráfico Circular en la misma pestaña Insertar.\n",
    "\n",
    "Gráfico circular\n",
    "\n",
    "Haz clic con el botón derecho del ratón, selecciona Formato y ajusta la configuración para cambiar el aspecto del gráfico.\n",
    "\n",
    "Al elaborar visualizaciones, hay algunas directrices generales que debes tener en cuenta para que las imágenes sean fáciles de interpretar para tus lectores:\n",
    "\n",
    "    El título de cada gráfico debe explicar el mensaje de la visualización, no sólo una descripción de los datos. Así, en lugar de decir “Población por continente”, intenta encontrar la historia que hay detrás de los datos y utilizarla como título de cada gráfico. Como por ejemplo: “Asia es el continente más poblado”.\n",
    "    Utiliza etiquetas y leyendas según corresponda."
   ]
  },
  {
   "cell_type": "markdown",
   "metadata": {},
   "source": [
    "Gráficos de dispersión\n",
    "\n",
    "Ahora que hemos echado un rápido vistazo al conjunto de datos y a la población por continentes, vamos a empezar a ver los datos que realmente hemos venido a buscar: el PIB de cada país. Tu hipótesis es que el PIB afecta a la esperanza de vida, por lo que esperas ver que la gente de los países más ricos vive más tiempo. Veamos un gráfico de dispersión del PIB per cápita frente a la esperanza de vida.\n",
    "\n",
    "Gráfico de dispersión\n",
    "\n",
    "Podemos ver en este gráfico que nuestra hipótesis probablemente es correcta, por lo que titulamos el gráfico de acuerdo a ello. Utilizamos el PIB per cápita (USD) como eje\n",
    "y la esperanza de vida (años) como eje\n",
    "\n",
    "porque queremos ver el efecto que tiene el PIB sobre la esperanza de vida y los gráficos de dispersión suelen leerse en este orden. Si calculamos la correlación, encontramos que la correlación global entre el PIB y la esperanza de vida es de 0,68, una correlación bastante fuerte (puedes leer más sobre la correlación aquí).\n",
    "\n",
    "Para crear este tipo de gráfico, a menudo es mejor configurar primero los datos de forma que el eje\n",
    "vaya antes que el eje . Empieza haciendo clic en la letra de la columna que corresponde a expVida para seleccionar toda la columna, y copia la columna. Pégala a la derecha de pibPercap, y luego selecciona tanto pibPercap como la nueva columna que has creado. En la pestaña Insertar, elige la primera opción de la parte superior izquierda en Dispersión.\n",
    "\n"
   ]
  },
  {
   "cell_type": "markdown",
   "metadata": {},
   "source": [
    "NOTAS: CTRL + E = Seleccionar celdas diligenciadas\n",
    "\n",
    "la primera columna Es el eje X de la tabla y la de la derecha es el eje Y en una tabla de dispersion\n"
   ]
  }
 ],
 "metadata": {
  "kernelspec": {
   "display_name": "Python 3.11.0 64-bit",
   "language": "python",
   "name": "python3"
  },
  "language_info": {
   "name": "python",
   "version": "3.11.0"
  },
  "orig_nbformat": 4,
  "vscode": {
   "interpreter": {
    "hash": "612538af96df4b6191d27459256391c00a866e50798f8fc3279187a75bcf6bc9"
   }
  }
 },
 "nbformat": 4,
 "nbformat_minor": 2
}
