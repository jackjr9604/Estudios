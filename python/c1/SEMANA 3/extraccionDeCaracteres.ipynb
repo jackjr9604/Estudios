{
 "cells": [
  {
   "cell_type": "markdown",
   "metadata": {},
   "source": [
    "Manipulación de datos en Excel\n",
    "Objetivos\n",
    "\n",
    "En este momento, tras desarrollar algunos casos en anteriores sesiones, ya deberíamos sentirnos cómodos con funciones de búsqueda tales como INDICE() + COINCIDIR() y con funciones de agregación como SUMA(), CONTAR(), y PROMEDIO(). En este caso, aprenderemos algunas funciones para procesar datos de tipo texto y veremos cómo trabajar con la lógica condicional en Excel. Las funciones que aprenderemos en este caso son:\n",
    "\n",
    "    IZQUIERDA()\n",
    "    DERECHA()\n",
    "    EXTRAE()\n",
    "    CONCAT()\n",
    "    ESPACIOS()\n",
    "    MAYUSC()\n",
    "    MINUSC()\n",
    "    NOMPROPIO()\n",
    "    SI()\n",
    "    Y()\n",
    "    O()\n",
    "    NO()\n",
    "    HALLAR()\n",
    "    ENCONTRAR()\n",
    "    SI.ERROR()\n",
    "\n",
    "\n"
   ]
  },
  {
   "cell_type": "markdown",
   "metadata": {},
   "source": [
    "\n",
    "Extraer texto\n",
    " IZQUIERDA(), como su nombre indica, nos permite obtener la parte de la izquierda de una cadena de texto. El primer argumento es el texto del que quieres extraer una parte, y el segundo argumento es el número de caracteres que quieres extraer. Mira el ejemplo de la celda G4 de la hoja anexo_formulas. Puedes jugar con el número de la celda J4 para extraer unos cuantos caracteres más o menos de la cadena de texto.\n",
    "\n",
    "=IZQUIERDA(TEXTO;#CARACTERES)"
   ]
  },
  {
   "cell_type": "markdown",
   "metadata": {},
   "source": [
    "DERECHA() funciona exactamente igual, pero toma los caracteres contando desde (lo has adivinado) ¡la derecha!\n",
    "=DERECHA(TEXTO;#CARACTERES)"
   ]
  },
  {
   "cell_type": "markdown",
   "metadata": {},
   "source": [
    "Por último, EXTRAE() toma los caracteres al interior de la cadena de texto. La función toma como argumentos el texto, la posición del primer carácter a partir del cual empezar a extraer el texto, y el número de caracteres a extraer. Consulta el ejemplo de la celda G7 de la hoja anexo_formulas.\n",
    "\n",
    "=EXTRAE(TEXTO;POSICION;#CARACTERES)\n"
   ]
  },
  {
   "cell_type": "markdown",
   "metadata": {},
   "source": [
    "Acabamos de aprender a extraer partes de cadenas de texto, pero ¿cómo hacer lo contrario? Es decir, juntar partes de textos y unirlas en uno único. CONCAT() es la respuesta. La función nos permite concatenar (es decir, unir) tantos trozos de texto como queramos en una sola cadena o bloque de texto.\n",
    "\n",
    "CONCAT() funciona de manera muy sencilla: unirá como una única cadena de texto todos los elementos que le pases como argumentos, ya sean cadenas de texto, números o cualquier otro formato.\n",
    "\n",
    "=CONCAT(D4;D10;J4;J7)"
   ]
  },
  {
   "cell_type": "markdown",
   "metadata": {},
   "source": [
    "Limpiar y formatear el texto\n",
    "\n",
    "Otras funciones nos ayudan a limpiar y dar formato al texto son: ESPACIOS(), NOMPROPIO(), MAYUSC(), y MINUSC().\n",
    "\n",
    "ESPACIOS() limpia los espacios innecesarios del texto. De manera frecuente recibirás conjuntos de datos con valores de texto que tienen espacios al principio o al final de un valor de texto, o espacios dobles entre palabras. ESPACIOS() elimina todos los espacios al principio y al final, y sólo deja espacios sencillos entre las palabras. El único argumento que requiere es el texto a limpiar.\n",
    "\n",
    "MAYUSC() hace que una cadena de texto quede completamente en mayúsculas, mientras que MINUSC() lo hace completamente en minúsculas. NOMPROPIO() pone en mayúscula la primera letra de cada palabra."
   ]
  },
  {
   "cell_type": "markdown",
   "metadata": {},
   "source": [
    "Lógica condicional\n",
    "\n",
    "Ahora queremos conocer la distribución del dinero que ganan los equipos en los torneos. Vamos a crear una nueva columna en la hoja de cálculo equipos_mejores_ingresos que nos diga si el premio que ha ganado cada equipo es superior o inferior a un determinado umbral (digamos, 100.000 dólares). Para ello primero debemos promediar el total de premio en dólares en relación al número de torneos en que cada equipo participó.\n",
    "\n",
    "Para ello utilizamos la función SI(), que nos permite comprobar si nuestros datos cumplen una condición y luego actuar sobre los resultados de forma dinámica. La sintaxis de esta función es la siguiente:\n",
    "\n",
    "=SI(condición, valor_si_condición_es_verdadero, valor_si_condición_es_falso)\n",
    "\n",
    "=1000/2>10// verdadero\n",
    "=si(1000/2>10;\"si\";\"no\")//si\n",
    "\n",
    "Para entenderla mejor, desagrega la fórmula:\n",
    "\n",
    "    1000/2>10. Esta es la condición\n",
    "    \"Si\". Si la condición es verdadera, el contenido de la celda debe ser la palabra “Si”.\n",
    "    \"No\". Si la condición es falsa, el contenido de la celda debe ser la palabra “No”.\n"
   ]
  },
  {
   "cell_type": "markdown",
   "metadata": {},
   "source": [
    "Es común que la función SI() vaya acompañada de las funciones Y(), O(), y NO(), que permiten comprobar condiciones más complejas. Con Y() puedes combinar varias condiciones en una sola, de forma que sólo sea verdadera si todas las condiciones más simples también lo son (es decir, si al menos una de ellas es falsa, entonces Y() dará un falso). O() es similar, pero con esta función, la condición compuesta será verdadera si al menos una de las condiciones más simples es verdadera y falsa en caso contrario. La única forma en que un O() puede dar lugar a un falso es si todas las condiciones son falsas. Por último, NO() invierte el valor de una condición. Por ejemplo, si C1>10 es verdadero, entonces NO(C1>10) será falso.\n",
    "\n",
    "La sintaxis de los condicionaesY() y O() es:\n",
    "\n",
    "=Y(condición_1, condición_2, ..., condición_n)\n",
    "=O(condición_1, condición_2, ..., condición_n)"
   ]
  },
  {
   "cell_type": "markdown",
   "metadata": {},
   "source": [
    "Buscar texto\n",
    "\n",
    "Las funciones HALLAR() y ENCONTRAR() nos permiten buscar una combinación especifica de caracteres dentro de nuestro texto. A primera vista parecen idénticas:\n",
    "\n",
    "    Ambas nos permiten buscar la posición de un determinado valor de texto dentro de otro valor de texto\n",
    "    Ambas toman como argumentos el valor que hay que buscar y el valor dentro del cual hay que buscarlo\n",
    "    Ambas devuelven un número que representa la posición del valor encontrado, o un error si no se encuentra\n",
    "\n",
    "Sin embargo, estas dos funciones tienen un par de diferencias clave. En primer lugar, ENCONTRAR() distingue entre mayúsculas y minúsculas y HALLAR() no. La segunda (y más importante) diferencia es que la función HALLAR() acepta caracteres que pueden emplearse como un comodín, esto quiere decir que puede encontrar variaciones de un valor de texto. Hay dos comodines: el carácter ? representa cualquier carácter simple, y el comodín * representa cualquier número de cualquier carácter. Puedes ver un par de ejemplos en las celdas G34 y G35 de la hoja anexo_formulas."
   ]
  },
  {
   "cell_type": "markdown",
   "metadata": {},
   "source": [
    "=ENCONTRAR(celda donde se buscara;caracteres q va a buscar)"
   ]
  },
  {
   "cell_type": "markdown",
   "metadata": {},
   "source": [
    "=HALLAR(celda donde se buscara;caracteres q va a buscar)"
   ]
  },
  {
   "cell_type": "markdown",
   "metadata": {},
   "source": [
    "Glosario:\n",
    "Concatenar: Unir celdas"
   ]
  }
 ],
 "metadata": {
  "kernelspec": {
   "display_name": "Python 3.11.0 64-bit",
   "language": "python",
   "name": "python3"
  },
  "language_info": {
   "name": "python",
   "version": "3.11.0"
  },
  "orig_nbformat": 4,
  "vscode": {
   "interpreter": {
    "hash": "612538af96df4b6191d27459256391c00a866e50798f8fc3279187a75bcf6bc9"
   }
  }
 },
 "nbformat": 4,
 "nbformat_minor": 2
}
