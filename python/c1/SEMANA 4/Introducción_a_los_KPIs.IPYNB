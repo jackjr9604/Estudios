{
 "cells": [
  {
   "cell_type": "markdown",
   "metadata": {},
   "source": [
    "Introducción a los KPIs\n",
    "\n",
    "Objetivos\n",
    "\n",
    "El objetivo del actual caso es presentar el concepto de KPIs en el contexto general de la inteligencia de negocios. Las preguntas que abordaremos y responderemos a largo del caso son:\n",
    "\n",
    "    ¿Qué son los KPIs?\n",
    "    ¿En qué se diferencia un KPI de una medida cuantitativa normal?\n",
    "    ¿Qué cualidades tienen los KPIs?\n",
    "    ¿Cuáles son los KPIs habituales en el sector logístico?\n",
    "    ¿Cuáles son las mejores prácticas para elaborar tableros de control a partir de los KPIs?\n",
    "\n",
    "\n",
    "Introducción\n",
    "\n",
    "Contexto general: Eres un empleado en un supermercado enfocado en la venta de alimentos que importa sus productos comprándolos a diferentes proveedores. Con el fin de garantizar la satisfacción de los consumidores, es necesario que la calidad de los productos sea adecuada y se mantenga constante en el tiempo. En los últimos 5 años, los proveedores han informado que las condiciones para el cultivo son cada vez más difíciles, pues diversos factores ambientales han hecho que sea más dificil mantener el mismo nivel de calidad en los productos. Por otra parte, algunos clientes del supermercado también ya han empezado a reportar problemas de calidad en los productos.\n",
    "\n",
    "Se prevé que con el cambio climático este problema pueda incluso empeorar. Dado tu conocimiento del problema, le planteas la situación al gerente de supermercado, pero tras finalizar un primer encuentro, él no parece muy convencido de que el problema sea lo suficientemente grave como para afectar a la estabilidad del negocio.\n",
    "\n",
    "Contexto analítico: Para convencer al gerente, decides utilizar información objetiva (basada en datos), que te permita emplear una medida cuantitativa para darle mayor claridad del riesgo potencial que esta situación trae al negocio. Para ello, asignas a todos los productos que se proveen al supermercado una etiqueta basada en la sospecha de que su calidad pueda verse afectada o no por el cambio climático. La etiqueta es la siguiente:\n",
    "\n",
    "    Sin riesgo: No hay antecedentes de importaciones de mala calidad ni se ha informado de una amenaza sobre el rendimiento de los cultivos en el lugar del proveedor.\n",
    "\n",
    "    Potencialmente en riesgo: No hay antecedentes de importaciones de mala calidad, pero se informó una amenaza en el rendimiento de los cultivos en la ubicación del proveedor.\n",
    "\n",
    "    En riesgo: Se tiene un historial de importaciones de mala calidad así como también se notificó una amenaza sobre el rendimiento de los cultivos en la ubicación del proveedor.\n",
    "\n",
    "Utilizando estas etiquetas, planteaste las siguientes métricas para convencer al gerente. La primera es el\n",
    ", o Porcentaje de Importaciones en Riesgo:\n",
    "\n",
    "![FORMULA](data/images/KPI.png)\n",
    "\n"
   ]
  },
  {
   "cell_type": "markdown",
   "metadata": {},
   "source": [
    "De acuerdo a la información con la que contaba el supermercado y a tu análisis obtuviste los siguientes resultados para las métricas definidas: 11% en el PIR y un 30,5% en el PIPR . Tras mostrar estas cifras al gerente, y asombrado por la cantidad de proveedores que están en riesgo, el gerente reconoce tu preocupación, te agradece ahberle aclarado el problema con esta información clave, y establece el objetivo de reducir el PIR al 5% y el PIPR al 15% en los próximos 3 años para proteger la estabilidad del supermercado. Mediante el seguimiento de estas métricas, durante los tres años siguientes, pudieron establecer relaciones con nuevos proveedores para cumplir su objetivo.\n",
    "\n",
    "En este caso, el PIR y el PIPR fueron las métricas cuantitativas específicas que se emplearon para dar entendimiento y seguimiento al problema de negocio. Estas métricas se conocen en el contexto de la inteligencia de negocios como Indicadores Clave de Rendimiento o KPIs por sus siglas en inglés: Key Performance Indicators. Para entender mejor cada una de las palabras que componen el concepto de KPI vamos a desglosarlas:\n",
    "\n",
    "    Indicador: Se refiere a la magnitud de la métrica que permite evaluar el rendimiento en relación con el objetivo.\n",
    "\n",
    "    Clave: Se refiere a que el indicador es muy importante para el negocio.\n",
    "\n",
    "    Rendimiento: Busca medir qué tan bien o mal está andando el negocio, qué tan buen “rendimiento” tiene (no sólo en términos monetarios, sino en otros aspectos también).\n",
    "\n",
    "Un PIR y un PIPR más bajos significan que el centro de distribución está comprando alimentos a proveedores con menos riesgo. Estas métricas, que cumplen las 3 características descritas (idicador, clave, y rendimiento) son sin duda un ejemplo concreto de KPIs."
   ]
  },
  {
   "cell_type": "markdown",
   "metadata": {},
   "source": [
    "KPI vs. métrica\n",
    "\n",
    "Existe una gran cantidad de características que pueden ser medidas en un negocio: la satisfacción de los clientes, los plazos de entrega, el tiempo medio de desplazamiento de los empleados, etc. Las empresas pueden medir innumerables aspectos diferentes. Sin embargo es importante señalar que no todas estas características que se miden y que se convierten en métricas son realmente KPIs. Para entenderlo un poco mejor veamos el siguiente diagrama:"
   ]
  },
  {
   "cell_type": "markdown",
   "metadata": {},
   "source": [
    "![FORMULA](data/images/%C3%ADndice.2.webp)"
   ]
  },
  {
   "cell_type": "markdown",
   "metadata": {},
   "source": [
    "KPIs\n",
    "\n",
    "Este diagrama ilustra que todos los KPIs son métricas, pero no todas las métricas son KPIs.\n",
    "\n",
    "Las métricas suelen ser datos que al introducirse en una ecuación se convierten en algo medido. A veces, las propias métricas pueden obtenerse de un cálculo que involucra más métricas (por ejemplo, los ingresos y las ganancias: una empresa puede obtener más ingresos disminuyendo sus costos o aumentando sus ganancias). Los KPI siguen el ejemplo de las métricas de esta manera. Volvamos a visualizar el diagrama anterior para entenderlo mejor:"
   ]
  },
  {
   "cell_type": "markdown",
   "metadata": {},
   "source": [
    "![FORMULA](data/images/%C3%ADndice.webp)"
   ]
  },
  {
   "cell_type": "markdown",
   "metadata": {},
   "source": [
    "KPIs y métricas\n",
    "\n",
    "Se puede ver que una métrica y un KPI presentan coincidencias en varios aspectos: pueden estar compuestos por una o varias métricas. Lo que los diferencia es cómo se utilizan en el contexto de la inteligencia de negocios.\n",
    "\n",
    "Para apoyar nuestra intuición sobre un KPI, definamos tres reglas generales que nos ayuden a identificarlos:\n",
    "\n",
    "    Los KPI están vinculados a objetivos de negocio específicos, las métricas no.\n",
    "        Por ejemplo, el número de entregas puntuales y sin problemas suele ser un buen KPI, ya que las empresas no quieren perder dinero reenviando artículos. Las empresas de logística siempre tienen el objetivo de intentar maximizar esta cifra.\n",
    "        Un ejemplo de métrica sería el número de empleados con experiencia previa en logística. Aunque es bueno tenerlo, no es un objetivo explícito de la empresa contratar sólo a personas con una experiencia específica.\n",
    "    Los KPI suelen estar motivados y evaluados por plazos.\n",
    "        Los KPI suelen evaluarse semanalmente o en distintos momentos, como las etapas de los proyectos o los ciclos trimestrales, para que la empresa pueda saber si convergen o se alejan de su objetivo.\n",
    "    Aunque los KPI no tienen que relacionarse directamente con los ingresos, casi siempre están relacionados indirectamente con ellos.\n",
    "        Un buen ejemplo de un KPI que hace esto es la satisfacción de los empleados. Los empleados más felices tienen más probabilidades de quedarse en la empresa, y suelen ser más productivos, lo que conduce a un mayor ahorro de costos y, por tanto, a mayores ingresos.\n",
    "        Un ejemplo de métrica en este caso sería el tiempo de desplazamiento de los empleados. Los empleados que se desplazan menos pueden no estar tan contentos, pero esto no está relacionado con los ingresos de la empresa y, por tanto, podría no considerarse un problema. Es importante tener este dato como métrica y, en lo posible, reducir los tiempos de desplazamiento. Pero este indicador no llega a ser tan clave para el negocio y por tanto no es un KPI (el KPI sería algo más general, como “felicidad del trabajador”).\n"
   ]
  },
  {
   "cell_type": "markdown",
   "metadata": {},
   "source": [
    "Otras cualidades importantes\n",
    "\n",
    "Los KPI no sólo describen el rendimiento en la consecución de un objetivo, sino que ayudan a generar respuestas a preguntas clave. Por ejemplo, si tienes un índice de rotación muy bajo (la frecuencia con la que los empleados permanecen en una empresa antes de renunciar) para un determinado puesto de la empresa, eso puede ayudar al administrador a investigar la pregunta “¿Es el rol X un trabajo terrible para hacer todos los días?” o “¿Qué es lo que hace que este rol sea tan agradable para los que se mantienen allí durante un tiempo prolongado?”."
   ]
  },
  {
   "cell_type": "markdown",
   "metadata": {},
   "source": [
    "Los KPI suelen estar correlacionados con otros aspectos de la empresa. Esto significa que, a medida que aumentan o disminuyen, también lo hacen otras métricas. Por ejemplo, la tasa de retención de clientes (la frecuencia con la que los clientes vuelven a comprar un producto o servicio) está correlacionada en cierta medida con los ingresos de la empresa. Esto tiene sentido, ya que los clientes que vuelven suelen comprar más productos.\n",
    "\n",
    "Los KPI y las métricas sin relación se conocen como independientes (sin relación entre sí). Un ejemplo de dos métricas independientes sería la tasa de retención de clientes y el número medio de almendras consumidas por los empleados. Estas dos métricas no deberían cambiar de valor si cambia una u otra. Normalmente, los empresarios saben cómo se relaciona un KPI con otras métricas u otros KPI del negocio. Por tanto, cuando incluyas varios KPI que estén correlacionados entre sí, asegúrate de preguntarte “¿Qué visión adicional o que preguntas adicionales ofrece este KPI?” y “¿Es esta información adicional redundante para la historia que estoy tratando de contar?”"
   ]
  },
  {
   "cell_type": "markdown",
   "metadata": {},
   "source": [
    "Los KPI son más útiles vistos en conjunto\n",
    "\n",
    "La mejor práctica para relacionarte con los KPIs empleados por una empresa es visualizarlos todos en una sola foto instantánea que presente el estado actual de la empresa hacia sus objetivos. Los KPIs suelen presentarse en tableros de control (o dashboards) para facilitar esta visualización:"
   ]
  },
  {
   "cell_type": "markdown",
   "metadata": {},
   "source": [
    "![FORMULA](data/images/%C3%ADndice3.webp)"
   ]
  },
  {
   "cell_type": "markdown",
   "metadata": {},
   "source": [
    "Múltiples KPIs\n",
    "\n",
    "En general, en la industria no se utiliza un único KPI, sino múltiples KPIs. Aunque cada uno de ellos dé respuesta a una pregunta en específico, sabemos que las preguntas generalmente están relacionadas entre sí. Por lo tanto, los KPIs vistos en conjunto nos entregan una visión más amplia e informada del problema de negocio y de las múltiples decisiones que podríamos tomar para alcanzar uno o varios objetivos.\n",
    "Conclusiones y tips para recordar\n",
    "\n",
    "Este caso busca proporcionarte claridad respecto al concepto de KPIs o también llamados Indicadores Clave de Rendimiento. Tras haber finalizado el caso debes estar en capacidad de describir qué son, cuándo utilizarlos y cómo identificarlos.\n"
   ]
  }
 ],
 "metadata": {
  "kernelspec": {
   "display_name": "Python 3.11.0 64-bit",
   "language": "python",
   "name": "python3"
  },
  "language_info": {
   "name": "python",
   "version": "3.11.0"
  },
  "orig_nbformat": 4,
  "vscode": {
   "interpreter": {
    "hash": "612538af96df4b6191d27459256391c00a866e50798f8fc3279187a75bcf6bc9"
   }
  }
 },
 "nbformat": 4,
 "nbformat_minor": 2
}
