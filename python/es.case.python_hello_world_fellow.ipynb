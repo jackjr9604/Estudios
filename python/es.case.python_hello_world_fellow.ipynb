{
  "cells": [
    {
      "cell_type": "markdown",
      "id": "408fb610",
      "metadata": {},
      "source": [
        "¡Tu primer programa!\n",
        "====================\n"
      ]
    },
    {
      "cell_type": "markdown",
      "id": "1a03e5bd",
      "metadata": {},
      "source": [
        "Introducción\n",
        "------------\n",
        "\n",
        "En un caso anterior, aprendiste lo que era un lenguaje de programación y viste tus primeros fragmentos de código. ¡Ahora estás preparado para escribir tu propio programa!\n",
        "\n",
        "![Hola mundo](data/images/hello_es.PNG)\n",
        "\n",
        "Para ello construiremos el [famoso programa \"Hola Mundo\"](https://es.wikipedia.org/wiki/Hola_mundo) que realiza la tarea más básica posible: imprimir un texto en la Terminal. Después, iremos introduciendo gradualmente diferentes conceptos como los errores, los comentarios, los tipos de datos, las listas y además algunos procedimientos que te permitirán por ejemplo ejecutar tus programas fuera de un cuaderno de Jupyter."
      ]
    },
    {
      "cell_type": "markdown",
      "id": "86df7cb9",
      "metadata": {},
      "source": [
        "Bloques del código\n",
        "----------------------------------\n",
        "\n",
        "En su forma más básica, todo código se compone de cuatro elementos: **valores**, **variables**, **operadores** y **funciones**. Todo el software escrito a lo largo de la historia de la computación está formado por combinaciones de estos cuatro conceptos."
      ]
    },
    {
      "cell_type": "markdown",
      "id": "aea7e55a",
      "metadata": {},
      "source": [
        "### Valores y variables\n",
        "\n",
        "En primer lugar, tenemos los **valores**. Un valor es simplemente un dato con el que queremos hacer algo. El número 5 es un valor, por ejemplo. Los valores pueden ser de muchos tipos, pero los dos más comunes son los números y las cadenas de texto. Cuando un valor es un texto, se suele decir que es de tipo *cadena de texto*. Por ejemplo, el texto \"Este es un programa genial\" es un valor de cadena de texto.\n",
        "\n",
        "¡Los tipos son importantes! La cadena de texto \\\"5\\\" no es el mismo valor que el número 5:"
      ]
    },
    {
      "cell_type": "code",
      "execution_count": 4,
      "id": "6cf3cac0",
      "metadata": {},
      "outputs": [
        {
          "data": {
            "text/plain": [
              "'5'"
            ]
          },
          "execution_count": 4,
          "metadata": {},
          "output_type": "execute_result"
        }
      ],
      "source": [
        "\"5\""
      ]
    },
    {
      "cell_type": "code",
      "execution_count": 3,
      "id": "6a3dd2ab",
      "metadata": {},
      "outputs": [
        {
          "data": {
            "text/plain": [
              "5"
            ]
          },
          "execution_count": 3,
          "metadata": {},
          "output_type": "execute_result"
        }
      ],
      "source": [
        "5"
      ]
    },
    {
      "cell_type": "markdown",
      "id": "0f0d0a25",
      "metadata": {},
      "source": [
        "A continuación, tenemos **las variables**: una variable es una \"caja\" en la que podemos almacenar un valor para utilizarlo posteriormente. Normalmente, decimos que *asignamos* un *valor* a una *variable*, para utilizar ese valor posteriormente en nuestro programa.\n",
        "\n",
        "En la siguiente celda puedes ver un ejemplo de asignación de un valor a una variable. La sintaxis para asignar un valor a una variable consiste simplemente en colocar el nombre de tu variable a la izquierda, seguido del signo `=`, y a continuación el valor a asignar:"
      ]
    },
    {
      "cell_type": "code",
      "execution_count": 5,
      "id": "e5a09eae",
      "metadata": {},
      "outputs": [],
      "source": [
        "a = 5"
      ]
    },
    {
      "cell_type": "markdown",
      "id": "cc2179c4",
      "metadata": {},
      "source": [
        "Arriba, hemos *asignado* el valor 5 a la variable `a`. Después de hacer esto, podemos utilizar esa variable para cualquier propósito.\n",
        "\n",
        "Observa que no se ha *impreso* nada debajo de la celda. Esto se debe a que la asignación de una variable sólo la almacena en la memoria de tu computador, pero para mostrar la variable debes decirle a tu computador que lo haga. El acto de asignar el valor es distinto del acto de mostrar la propia variable.\n",
        "\n",
        "Una forma de hacerlo en los cuadernos Jupyter es simplemente colocar el valor o la variable en una celda independiente,y posteriormente ejecutar la celda. El valor se imprimirá inmediatamante bajo la celda:"
      ]
    },
    {
      "cell_type": "code",
      "execution_count": 6,
      "id": "b562da41",
      "metadata": {},
      "outputs": [
        {
          "data": {
            "text/plain": [
              "5"
            ]
          },
          "execution_count": 6,
          "metadata": {},
          "output_type": "execute_result"
        }
      ],
      "source": [
        "a"
      ]
    },
    {
      "cell_type": "markdown",
      "id": "f18d5791",
      "metadata": {},
      "source": [
        "### Ejercicio 1\n",
        "\n",
        "Ahora, ¡a practicar! Verás que la siguiente celda de código tiene una variable a la que se le asignó el valor `0`. Asígnale otro valor que quieras (mientras que sea numérico) y ejecuta la celda.\n",
        "\n",
        "**Pista 1:** Para ejecutar una celda, presiona `Ctrl`+`Enter`.\n",
        "\n",
        "**Pista 2:** A continuación verás la palabra \"Respuesta\" en negrita seguida de una línea horizontal. En todos nuestros ejercicios de casos, verás esto donde se supone que tienes que dar una respuesta. Haz clic en la celda que contiene la palabra \"Respuesta\" y luego pulsa la tecla `b`. Esto creará una nueva celda de código en la que podrás introducir tu respuesta."
      ]
    },
    {
      "cell_type": "code",
      "execution_count": 7,
      "id": "73f808c0",
      "metadata": {},
      "outputs": [
        {
          "data": {
            "text/plain": [
              "0"
            ]
          },
          "execution_count": 7,
          "metadata": {},
          "output_type": "execute_result"
        }
      ],
      "source": [
        "b = 0\n",
        "b"
      ]
    },
    {
      "cell_type": "markdown",
      "id": "ff1831a3",
      "metadata": {
        "tags": [
          "ans_st"
        ]
      },
      "source": [
        "**Respuesta.**"
      ]
    },
    {
      "cell_type": "markdown",
      "id": "78d17db9",
      "metadata": {},
      "source": [
        "-------"
      ]
    },
    {
      "cell_type": "markdown",
      "id": "babb03db",
      "metadata": {},
      "source": [
        "### Funciones y operadores\n",
        "\n",
        "El siguiente concepto es el de **función**. Una función es un fragmento de código que toma una entrada (como una \"materia prima\") y la procesa. Durante este programa, aprenderás a escribir tus propias funciones, pero mientras tanto utilizaremos algunas de las funciones propias del lenguaje Python.\n",
        "\n",
        "Una función se compone de 2 partes: su *nombre* y sus *entradas* (también conocidas como **argumentos** o **parámetros**). En Python, las funciones suelen tener un nombre que empieza por una letra minúscula. Algunos ejemplos de funciones comunes que utilizaremos son `print()`, `type()` y `len()`, entre muchas otras con las que cuenta Python por defecto.\n",
        "\n",
        "¿Recuerdas nuestra variable `a`? Si queremos hacerla visible en algún lugar sin tener que colocarla al final de nuestra celda, debemos utilizar la que probablemente sea la función más utilizada en Python: **`print()`**.\n",
        "\n",
        "La función `print()` (que siempre será escrita en inglés, y que significa imprimir) toma como entrada básicamente cualquier elemento que puedas imaginar, e imprime esa entrada en la Terminal o después de la celda actual dentro de un cuaderno de Jupyter. Vamos a imprimir nuestra variable `a` junto con un texto complementario:"
      ]
    },
    {
      "cell_type": "code",
      "execution_count": 8,
      "id": "cd9ffc96",
      "metadata": {},
      "outputs": [
        {
          "name": "stdout",
          "output_type": "stream",
          "text": [
            "5\n",
            "¡Estamos utilizando la función print!\n"
          ]
        }
      ],
      "source": [
        "print(a)\n",
        "print('¡Estamos utilizando la función print!')"
      ]
    },
    {
      "cell_type": "markdown",
      "id": "8670b6c5",
      "metadata": {},
      "source": [
        "**Nota:** a diferencia de Excel, en el cual dependiendo de la versión de idioma en el que trabajas las funciones cambian de nombre, en Python las funciones siempre serán escritas de una misma manera, siempre en inglés. ¡Si no dominas el inglés, anímate a aprenderlo! Te abrirá muchas puertas en el mundo de los datos."
      ]
    },
    {
      "cell_type": "markdown",
      "id": "f3857602",
      "metadata": {},
      "source": [
        "Observa que si eliminamos la función `print()` de la primera línea de la celda anterior y sólo escribimos `a`, la impresión no se genera:"
      ]
    },
    {
      "cell_type": "code",
      "execution_count": 9,
      "id": "a357b59a",
      "metadata": {},
      "outputs": [
        {
          "name": "stdout",
          "output_type": "stream",
          "text": [
            "¡Estamos utilizando la función print!\n"
          ]
        }
      ],
      "source": [
        "a\n",
        "print('¡Estamos utilizando la función print!')"
      ]
    },
    {
      "cell_type": "markdown",
      "id": "e4b66e41",
      "metadata": {},
      "source": [
        "¡La función `print()` es muy importante! Acostúmbrate a imprimir tus variables siempre para comprobar si tu programa funciona bien. La práctica de arreglar los problemas de tu programa se llama **depuración**, y a menudo la función `print()` es tu principal herramienta para depurar rápidamente tanto problemas simples como complejos."
      ]
    },
    {
      "cell_type": "markdown",
      "id": "d6f1e6be",
      "metadata": {},
      "source": [
        "Una función adicional que te resultará útil en tus proyectos es la función `input()`. Ésta permite que el código solicite una entrada al usuario, haciendo que el código sea un poco más dinámico (sobre todo cuando se ejecutan scripts de Python a través de la Terminal). Vamos a probarla:"
      ]
    },
    {
      "cell_type": "code",
      "execution_count": 12,
      "id": "e4322a56",
      "metadata": {},
      "outputs": [
        {
          "ename": "TypeError",
          "evalue": "object str can't be used in 'await' expression",
          "output_type": "error",
          "traceback": [
            "\u001b[1;31m---------------------------------------------------------------------------\u001b[0m",
            "\u001b[1;31mTypeError\u001b[0m                                 Traceback (most recent call last)",
            "Cell \u001b[1;32mIn [12], line 1\u001b[0m\n\u001b[1;32m----> 1\u001b[0m a \u001b[39m=\u001b[39m \u001b[39mawait\u001b[39;00m \u001b[39minput\u001b[39m(\u001b[39m\"\u001b[39m\u001b[39m¿Cuál es tu nombre?\u001b[39m\u001b[39m\"\u001b[39m)\n",
            "\u001b[1;31mTypeError\u001b[0m: object str can't be used in 'await' expression"
          ]
        }
      ],
      "source": [
        "a = await input(\"¿Cuál es tu nombre?\")"
      ]
    },
    {
      "cell_type": "code",
      "execution_count": 13,
      "id": "d218c5e3",
      "metadata": {},
      "outputs": [
        {
          "ename": "TypeError",
          "evalue": "object str can't be used in 'await' expression",
          "output_type": "error",
          "traceback": [
            "\u001b[1;31m---------------------------------------------------------------------------\u001b[0m",
            "\u001b[1;31mTypeError\u001b[0m                                 Traceback (most recent call last)",
            "Cell \u001b[1;32mIn [13], line 1\u001b[0m\n\u001b[1;32m----> 1\u001b[0m b \u001b[39m=\u001b[39m \u001b[39mawait\u001b[39;00m \u001b[39minput\u001b[39m(\u001b[39m\"\u001b[39m\u001b[39m¿Cuál es tu sueño? \u001b[39m\u001b[39m\"\u001b[39m)\n",
            "\u001b[1;31mTypeError\u001b[0m: object str can't be used in 'await' expression"
          ]
        }
      ],
      "source": [
        "b = await input(\"¿Cuál es tu sueño? \")"
      ]
    },
    {
      "cell_type": "code",
      "execution_count": 14,
      "id": "39c84969",
      "metadata": {},
      "outputs": [
        {
          "ename": "TypeError",
          "evalue": "object str can't be used in 'await' expression",
          "output_type": "error",
          "traceback": [
            "\u001b[1;31m---------------------------------------------------------------------------\u001b[0m",
            "\u001b[1;31mTypeError\u001b[0m                                 Traceback (most recent call last)",
            "Cell \u001b[1;32mIn [14], line 1\u001b[0m\n\u001b[1;32m----> 1\u001b[0m c \u001b[39m=\u001b[39m \u001b[39mawait\u001b[39;00m \u001b[39minput\u001b[39m(\u001b[39m\"\u001b[39m\u001b[39m¿Cuál es tu color favorito?\u001b[39m\u001b[39m\"\u001b[39m)\n",
            "\u001b[1;31mTypeError\u001b[0m: object str can't be used in 'await' expression"
          ]
        }
      ],
      "source": [
        "c = await input(\"¿Cuál es tu color favorito?\")"
      ]
    },
    {
      "cell_type": "code",
      "execution_count": 15,
      "id": "2078e043",
      "metadata": {},
      "outputs": [
        {
          "name": "stdout",
          "output_type": "stream",
          "text": [
            "---------\n",
            "5\n",
            "sueña con:\n",
            "0\n",
            "y su color favorito es:\n"
          ]
        },
        {
          "ename": "NameError",
          "evalue": "name 'c' is not defined",
          "output_type": "error",
          "traceback": [
            "\u001b[1;31m---------------------------------------------------------------------------\u001b[0m",
            "\u001b[1;31mNameError\u001b[0m                                 Traceback (most recent call last)",
            "Cell \u001b[1;32mIn [15], line 7\u001b[0m\n\u001b[0;32m      5\u001b[0m \u001b[39mprint\u001b[39m(b)\n\u001b[0;32m      6\u001b[0m \u001b[39mprint\u001b[39m(\u001b[39m\"\u001b[39m\u001b[39my su color favorito es:\u001b[39m\u001b[39m\"\u001b[39m)\n\u001b[1;32m----> 7\u001b[0m \u001b[39mprint\u001b[39m(c)\n",
            "\u001b[1;31mNameError\u001b[0m: name 'c' is not defined"
          ]
        }
      ],
      "source": [
        "print(\"---------\")\n",
        "\n",
        "print(a)\n",
        "print(\"sueña con:\")\n",
        "print(b)\n",
        "print(\"y su color favorito es:\")\n",
        "print(c)"
      ]
    },
    {
      "cell_type": "markdown",
      "id": "4f21a009",
      "metadata": {},
      "source": [
        "Por último, tenemos los **operadores**. Los operadores son elementos que permiten que los valores y las variables interactúen entre sí. Algunos operadores comunes son los que puedes conocer como **operadores** matemáticos, como la suma, la multiplicación y la resta, pero hay muchos otros. Vamos a probar un par de operadores matemáticos básicos:"
      ]
    },
    {
      "cell_type": "code",
      "execution_count": 16,
      "id": "0d8b2a65",
      "metadata": {},
      "outputs": [
        {
          "name": "stdout",
          "output_type": "stream",
          "text": [
            "30\n",
            "7.5\n",
            "19\n"
          ]
        }
      ],
      "source": [
        "a = 15\n",
        "b = 4\n",
        "\n",
        "c = a*2\n",
        "d = a/2\n",
        "e = a+b\n",
        "\n",
        "print(c)\n",
        "print(d)\n",
        "print(e)"
      ]
    },
    {
      "cell_type": "markdown",
      "id": "04c0cd48",
      "metadata": {},
      "source": [
        "¡También puedes sumar algo más que números! Una forma rápida y sencilla de *unir* 2 cadenas de texto es simplemente \"sumarlas\" con el operador `+`:"
      ]
    },
    {
      "cell_type": "code",
      "execution_count": 17,
      "id": "cb554a59",
      "metadata": {},
      "outputs": [
        {
          "name": "stdout",
          "output_type": "stream",
          "text": [
            "Esta es la primera parte de una oración más grande.\n"
          ]
        }
      ],
      "source": [
        "primera_cadena_de_texto = 'Esta es la primera parte '\n",
        "segunda_cadena_de_texto = 'de una oración más grande.'\n",
        "cadena_completa = primera_cadena_de_texto + segunda_cadena_de_texto\n",
        "print(cadena_completa)"
      ]
    },
    {
      "cell_type": "markdown",
      "id": "de09a32f",
      "metadata": {},
      "source": [
        "Puedes asignar casi cualquier nombre a las variables, excepto algunas palabras reservadas que Python utiliza para sus operaciones internas. Además, las variables no pueden empezar por números (pero pueden tener números dentro), por ejemplo, `a1`, `a456` y `ind33d` son variables válidas, pero `1a`, `456a` y `3xc3l3nte` no lo son. De manera adicional, aunque se puede utilizar tildes y algunos caracteres especiales como parte del nombre de las variables, en general no deben utilizarse.\n",
        "\n",
        "Así, en lugar de limitarnos a `a` o `b`, ¡podemos nombrar nuestras variables casi como queramos! Es importante utilizar nombres de variables que sean fáciles de entender para que tu código sea legible y comprensible. Al computador no le importa realmente cómo nombras tus variables, pero a tus colegas, compañeros de trabajo, profesores y cualquier otra persona que pueda leer tu código, seguro que sí.\n",
        "\n",
        "Cuando se trata de nombres de variables de varias palabras (como la de `cadena completa` en el ejemplo de arriba), la mejor práctica es separar las palabras con un guión bajo `_`, ya que utilizar un espacio (` `) o un guión (`-`) en el nombre de una variable provoca errores. A algunas personas les gusta utilizar una convención llamada [\"Camel case\" o \"Letra de camello\"](https://es.wikipedia.org/wiki/Camel_case), en la que se pone en mayúscula la primera letra de cada palabra, excluyendo la primera (así se crea una protuberancia que se parece a la joroba de un camello). Así, tendríamos `cadenaCompleta`. Las mayúsculas y minúsculas son comunes, pero el uso de guiones bajos es más popular y generalmente más legible.\n",
        "\n",
        "Observa también que hemos asignado a la variable `cadena_completa` un valor que es el resultado de la operación entre otras dos variables. Ésta es una de las formas más habituales de asignar valores a las variables. Sin embargo, no es necesario que limites las operaciones a dos variables: puedes operar con tantas variables como quieras en una sola línea de código."
      ]
    },
    {
      "cell_type": "markdown",
      "id": "e1fade0c",
      "metadata": {},
      "source": [
        "### Ejercicio 2\n",
        "\n",
        "Escribe unas líneas de código que hagan lo siguiente:\n",
        "\n",
        "1.  Asigna el valor `a*b` a una nueva variable llamada `resultado_multiplicacion`.\n",
        "2.  Asigna el valor `a**b` a una nueva variable llamada `resultado_exponencial`\n",
        "3.  Imprime cada variable utilizando la función `print()`.\n",
        "\n",
        "**Pista:** En Python, la multiplicación se hace con el operador `*` y la potenciación se hace con el operador `**`. Por ejemplo, $4 \\times 5$ se codificaría como `4*5` y $2^3$ se codificaría como `2**3`."
      ]
    },
    {
      "cell_type": "markdown",
      "id": "53d690e5",
      "metadata": {
        "tags": [
          "ans_st"
        ]
      },
      "source": [
        "**Respuesta.**"
      ]
    },
    {
      "cell_type": "markdown",
      "id": "c8ae5a91",
      "metadata": {},
      "source": [
        "-------"
      ]
    },
    {
      "cell_type": "markdown",
      "id": "5ca5adff",
      "metadata": {},
      "source": [
        "Lo más importante de las variables es que (como su nombre indica) pueden variar con el tiempo. Eso significa que puedes sobrescribir su valor actual con cualquier otro valor en cualquier momento. Por ejemplo, antes asignamos el número 5 a la variable `a`. Pero a la variable `a` podemos asignarle cualquier otro valor nuevo, tras lo cual `a` olvidará el valor 5 y lo sustituirá por el último valor asignado:"
      ]
    },
    {
      "cell_type": "code",
      "execution_count": 18,
      "id": "ff97c75a",
      "metadata": {},
      "outputs": [
        {
          "name": "stdout",
          "output_type": "stream",
          "text": [
            "15\n",
            "Este es otro valor diferente\n",
            "12\n"
          ]
        }
      ],
      "source": [
        "print(a)\n",
        "\n",
        "a = 'Este es otro valor diferente'\n",
        "print(a)\n",
        "\n",
        "a = 12\n",
        "print(a)"
      ]
    },
    {
      "cell_type": "markdown",
      "id": "eed3fdd7",
      "metadata": {},
      "source": [
        "Conceptos básicos de la sintaxis de Python\n",
        "------------------------------------------\n",
        "\n",
        "Python es muy flexible en comparación con otros lenguajes, pero, como todos los lenguajes de programación, tiene reglas que deben seguirse *estrictamente* para que tu computador entienda y ejecute tus órdenes. A medida que practiques y escribas más código de Python, estas reglas se convertirán en algo natural y ya no tendrás que pensar en ellas. Empezaremos con las dos reglas principales, y aprenderemos el resto poco a poco:\n",
        "\n",
        "1.  Python distingue entre mayúsculas y minúsculas\n",
        "2.  Sólo debe haber una única sentencia por línea de código\n",
        "\n",
        "¿Simple, no? Estas 2, junto con las otras reglas que aprenderás pronto, son reglas *obligatorias*. Eso significa que deben cumplirse en su totalidad para que tu código sea entendido por tu computador.\n",
        "\n",
        "Aquí tienes un ejemplo de cómo Python distingue entre mayúsculas y minúsculas. Aunque las tres variables tienen un nombre similar, Python las trata como diferentes porque distingue entre mayúsculas y minúsculas:"
      ]
    },
    {
      "cell_type": "code",
      "execution_count": 19,
      "id": "f9504dbe",
      "metadata": {},
      "outputs": [
        {
          "name": "stdout",
          "output_type": "stream",
          "text": [
            "Esta es una variable\n",
            "y esta es otra variable\n",
            "15\n"
          ]
        }
      ],
      "source": [
        "variableUno = 'Esta es una variable'\n",
        "variableuno = 'y esta es otra variable'\n",
        "Variableuno = 15 \n",
        "print(variableUno)\n",
        "print(variableuno)\n",
        "print(Variableuno)"
      ]
    },
    {
      "cell_type": "markdown",
      "id": "d31a56e5",
      "metadata": {},
      "source": [
        "Mira un ejemplo de cómo Python exige que sólo haya una declaración en cada línea de código. Ejecuta el siguiente fragmento de código:"
      ]
    },
    {
      "cell_type": "code",
      "execution_count": 20,
      "id": "217425eb",
      "metadata": {},
      "outputs": [
        {
          "ename": "SyntaxError",
          "evalue": "invalid syntax (2492286453.py, line 1)",
          "output_type": "error",
          "traceback": [
            "\u001b[1;36m  Cell \u001b[1;32mIn [20], line 1\u001b[1;36m\u001b[0m\n\u001b[1;33m    print(variableUno) print(variableuno) print(Variableuno)\u001b[0m\n\u001b[1;37m                       ^\u001b[0m\n\u001b[1;31mSyntaxError\u001b[0m\u001b[1;31m:\u001b[0m invalid syntax\n"
          ]
        }
      ],
      "source": [
        "print(variableUno) print(variableuno) print(Variableuno)"
      ]
    },
    {
      "cell_type": "markdown",
      "id": "062311f6",
      "metadata": {},
      "source": [
        "Deberías haber obtenido un error. Normalmente, Python es muy claro con su salida de error. La parte más importante del mensaje de error es la última línea, que suele decir `SyntaxError` o algo similar, seguida de una descripción de lo que significa el error.\n",
        "\n",
        "**Nota:** Tal como los nombres de las funciones, los mensajes de error también estarán siempre en inglés. ¡Tranquilo, nada que tu y Google no puedan solucionar! Por ejemplo, en este caso el error obtenido era: `SyntaxError: invalid syntax` que con ayuda de un traductor en caso de que lo requieras podrás saber que se trata de un error de sintaxis, de una sintaxis inválida.\n",
        "\n",
        "En este caso veremos un par de tipos de errores más. Ya que sabemos que este último error era un error de *sintaxis*, intentemos arreglar la sintaxis."
      ]
    },
    {
      "cell_type": "markdown",
      "id": "ee853157",
      "metadata": {},
      "source": [
        "### Ejercicio 3\n",
        "\n",
        "Corrige el código anterior para no obtener un error de sintaxis."
      ]
    },
    {
      "cell_type": "markdown",
      "id": "6b8715f5",
      "metadata": {
        "tags": [
          "ans_st"
        ]
      },
      "source": [
        "**Respuesta.**"
      ]
    },
    {
      "cell_type": "markdown",
      "id": "9fb828ce",
      "metadata": {},
      "source": [
        "-------"
      ]
    },
    {
      "cell_type": "markdown",
      "id": "56adadc5",
      "metadata": {},
      "source": [
        "Otra forma de hacerlo es hacer que una función `print()` imprima varios valores a la vez. Puedes hacerlo separando los valores con comas. Todos los valores se imprimirán secuencialmente, separados por un espacio:"
      ]
    },
    {
      "cell_type": "code",
      "execution_count": 21,
      "id": "19743b2d",
      "metadata": {},
      "outputs": [
        {
          "name": "stdout",
          "output_type": "stream",
          "text": [
            "Esta es una variable y esta es otra variable 15\n"
          ]
        }
      ],
      "source": [
        "print(variableUno, variableuno, Variableuno)"
      ]
    },
    {
      "cell_type": "markdown",
      "id": "40cfe5e9",
      "metadata": {},
      "source": [
        "¡Hola Mundo!\n",
        "------------\n",
        "\n",
        "Ahora que conoces los elementos básicos que conforman un código y las principales reglas del lenguaje Python, estás preparado para escribir tu primer programa."
      ]
    },
    {
      "cell_type": "markdown",
      "id": "8562e03d",
      "metadata": {},
      "source": [
        "### Ejercicio 4\n",
        "\n",
        "En la siguiente celda, escribe un programa que imprima el valor `¡Hola Mundo!` utilizando la función `print()`."
      ]
    },
    {
      "cell_type": "markdown",
      "id": "a2064857",
      "metadata": {
        "tags": [
          "ans_st"
        ]
      },
      "source": [
        "**Respuesta.**"
      ]
    },
    {
      "cell_type": "markdown",
      "id": "42c8393d",
      "metadata": {},
      "source": [
        "-------"
      ]
    },
    {
      "cell_type": "markdown",
      "id": "5a40a671",
      "metadata": {},
      "source": [
        "Ahora deberías ver `¡Hola Mundo!` debajo de la celda de código. ¡Felicitaciones! Ya has creado oficialmente tu primer programa \"¡Hola Mundo!\". Si te ha parecido muy sencillo, ¡es porque lo es! La verdad es que Python es un lenguaje maravilloso y es especialmente bueno para los principiantes porque su sintaxis es muy comprensible y corta. En otros lenguajes de programación, escribir un programa \"¡Hola Mundo!\" podría llevar 3, 5 o incluso una docena de líneas. Pero en Python, ¡podemos hacerlo en una! ¡De eso se trata Python, de simplificarnos la vida!"
      ]
    },
    {
      "cell_type": "markdown",
      "id": "d90ef655",
      "metadata": {},
      "source": [
        "Comentarios\n",
        "-----------\n",
        "\n",
        "Puede que hayas notado que en algunas de las celdas anteriores había un texto que no parecía afectar al código que había debajo. Este texto es lo que se conoce como **comentario**. Un comentario es un fragmento de texto que los programadores utilizan para describir lo que hace o debería hacer una sección del código, para dejar instrucciones a otra persona (como hacemos nosotros en estos casos), o simplemente para dejar notas para futuras consultas.\n",
        "\n",
        "En Python, dejar comentarios es sencillo: basta con empezar la línea con el carácter `#`, y todo lo que siga en esa línea no será código ejecutado, sino sólo texto para que alguien lo lea.\n",
        "\n",
        "El uso más típico de los comentarios es describir lo que hace un fragmento de código. Mira un ejemplo:"
      ]
    },
    {
      "cell_type": "code",
      "execution_count": null,
      "id": "0cc1db55",
      "metadata": {},
      "outputs": [],
      "source": [
        "# Este programa asigna valores numéricos a 2 variables diferentes y encuentra la suma de sus valores al cuadrado\n",
        "x = 8\n",
        "y = 12\n",
        "r = (x**2)+(y**2) # También puedes usar comentarios al lado del código que se ejecutará\n",
        "print('La suma del cuadrado de los valores es', r)"
      ]
    },
    {
      "cell_type": "markdown",
      "id": "d47b5b36",
      "metadata": {},
      "source": [
        "Comentar tu código es importante para que sea comprensible. Los programas complejos pueden tener cientos o incluso miles de líneas, y comentar lo que hace cada sección hace que sea mucho más fácil para ti y para otros leer el código en el futuro. ¡Sigue el consejo y utiliza los comentarios, realmente lo agradecerás!"
      ]
    },
    {
      "cell_type": "markdown",
      "id": "67421b5e",
      "metadata": {},
      "source": [
        "Tipos de datos\n",
        "--------------\n",
        "\n",
        "Entremos en algunos detalles de cómo Python entiende lo que le dices que haga. Una de las primeras cosas que has aprendido es a sumar dos números o dos cadenas de texto. ¿Pero qué ocurre si intentas sumar una cadena de texto con un número? Ejecuta el siguiente fragmento:\n"
      ]
    },
    {
      "cell_type": "code",
      "execution_count": null,
      "id": "fb442b11",
      "metadata": {},
      "outputs": [],
      "source": [
        "# La variable `a` contiene un número.\n",
        "print(a)\n",
        "\n",
        "# La variable `cadena_completa` contiene una cadena de texto\n",
        "print(cadena_completa)\n",
        "\n",
        "# ¿Qué ocurre cuando las sumamos?\n",
        "experimento = a + cadena_completa\n",
        "\n",
        "# Imprimamos el resultado\n",
        "print(experimento)"
      ]
    },
    {
      "cell_type": "markdown",
      "id": "d7156cc2",
      "metadata": {},
      "source": [
        "Deberías haber obtenido el error `TypeError: unsupported operand type(s) for +: 'int' and 'str'`\n",
        "\n",
        "Este error significa que el operador `+` no funciona entre cadenas de texto y números. Hay dos detalles importantes a los que hay que prestar atención aquí. En primer lugar, fíjate en que dice `TypeError`, y en segundo lugar en que menciona dos tipos, `int` y `str`. Esto se debe a que en Python todos los valores y variables tienen un **tipo**. Un tipo describe lo que se puede y no se puede hacer con un dato concreto, y lo que ese dato representa.\n",
        "\n",
        "Puedes averiguar el tipo de un valor o variable con la función `type()`. La función toma como entrada cualquier valor o variable e imprime su tipo. Hay muchos tipos de datos en Python, ¡e incluso puedes crear los tuyos propios! Pero, por el momento, vamos a ver los principales tipos de datos que nos ofrece Python."
      ]
    },
    {
      "cell_type": "markdown",
      "id": "e5cf6b81",
      "metadata": {},
      "source": [
        "### `int`\n",
        "\n",
        "El tipo de datos `int` (o entero, en español) se utiliza para representar [números enteros](https://es.wikipedia.org/wiki/N%C3%BAmero_entero), tanto positivos como negativos. 5, -5, 1793, -78954 o cualquier otro número en el que no necesitemos valores decimales se puede definir con un `int`:"
      ]
    },
    {
      "cell_type": "code",
      "execution_count": null,
      "id": "cfcf05b3",
      "metadata": {},
      "outputs": [],
      "source": [
        "a = 3147483648777\n",
        "print(type(a))\n",
        "b = -36\n",
        "print(type(b))"
      ]
    },
    {
      "cell_type": "markdown",
      "id": "d176f918",
      "metadata": {},
      "source": [
        "Observa que ambos valores son de tipo `int`. Además, fíjate en que hemos utilizado la función `type()` dentro de la función `print()`. ¡Una función dentro de otra función! (Genial, ¿verdad?) Cuando haces eso, el orden de ejecución de las funciones es de adentro hacia afuera: La función interna se ejecuta primero, y luego la externa."
      ]
    },
    {
      "cell_type": "markdown",
      "id": "d82e603d",
      "metadata": {},
      "source": [
        "### `float`\n",
        "\n",
        "¿Y qué pasa cuando necesitamos números con decimales? En ese caso, necesitamos el tipo de datos **`float`** (o \"números de coma flotante\", en español). `float` puede representar números con hasta 16 dígitos de precisión (lo que se denomina \"doble precisión\"). Ejemplos de `float` pueden ser -12,5, 3/14, 7813,21629 o cualquier otro número con decimales:"
      ]
    },
    {
      "cell_type": "code",
      "execution_count": null,
      "id": "75635078",
      "metadata": {},
      "outputs": [],
      "source": [
        "c = -65.452\n",
        "c_tipo = type(c)\n",
        "print(c_tipo)\n",
        "\n",
        "d = 1/6\n",
        "d_tipo = type(d)\n",
        "print(d_tipo)"
      ]
    },
    {
      "cell_type": "markdown",
      "id": "9c127ea3",
      "metadata": {},
      "source": [
        "Al contrario de lo que hemos visto con las cadenas de texto y los enteros, los enteros y los flotantes pueden operar entre sí con operadores matemáticos. El resultado de esta operación es siempre un flotante:"
      ]
    },
    {
      "cell_type": "code",
      "execution_count": null,
      "id": "8c10d44a",
      "metadata": {},
      "outputs": [],
      "source": [
        "# Multipliquemos b por d, lo que debería dar como resultado -6.\n",
        "print(b * d)\n",
        "print(type(b*d))"
      ]
    },
    {
      "cell_type": "markdown",
      "id": "1bfc6789",
      "metadata": {},
      "source": [
        "Fíjate en que no hemos asignado `b*d` a una variable, sino que lo hemos utilizado directamente dentro de `type()`. ¡Operadores dentro de funciones dentro de funciones! Se aplica el mismo principio que ya habíamos visto: primero se evalúa la operación más interna, luego la siguiente función hacia fuera, y luego la siguiente, y así sucesivamente."
      ]
    },
    {
      "cell_type": "markdown",
      "id": "344e4f20",
      "metadata": {},
      "source": [
        "### `str`\n",
        "\n",
        "El tipo **`str`** representa a *las cadenas*, que son listas ordenadas de caracteres, o como las conocemos en lenguaje más común, ¡valores de texto! Las cadenas de texto tienen su propio conjunto de operadores y funciones incorporados a Python, pero aprenderemos más sobre ellos en casos futuros. De momento, recordemos que puedes *unirlas* con el operador `+`:"
      ]
    },
    {
      "cell_type": "code",
      "execution_count": null,
      "id": "2920de98",
      "metadata": {},
      "outputs": [],
      "source": [
        "mas_texto = '¿Esto es una cadena de texto?'\n",
        "print(type(mas_texto))\n",
        "\n",
        "todavia_mas_texto = ' Sí, si lo es.'\n",
        "\n",
        "texto_final = mas_texto + todavia_mas_texto\n",
        "print(texto_final)\n",
        "print(type(texto_final))"
      ]
    },
    {
      "cell_type": "markdown",
      "id": "0f59980b",
      "metadata": {},
      "source": [
        "También puedes encontrar la longitud (es decir, el número de caracteres) de una cadena de texto con la función `len()` (que viene de *length*, que en español traduce longitud):"
      ]
    },
    {
      "cell_type": "code",
      "execution_count": null,
      "id": "7ff4f4a5",
      "metadata": {},
      "outputs": [],
      "source": [
        "len(texto_final)"
      ]
    },
    {
      "cell_type": "markdown",
      "id": "e7f05274",
      "metadata": {},
      "source": [
        "### `bool`\n",
        "\n",
        "El tipo de datos **`bool`** (o [booleano](https://es.wikipedia.org/wiki/Tipo_de_dato_l%C3%B3gico), en español) representa los valores lógicos `True` y `False` (verdadero y falso respectivamente, en español, pero recuerda solo pueden emplearse en inglés en el código), y no puede tomar ningún otro valor:"
      ]
    },
    {
      "cell_type": "code",
      "execution_count": null,
      "id": "71844c23",
      "metadata": {},
      "outputs": [],
      "source": [
        "variable_booleana = True\n",
        "otra_variable_booleana = False\n",
        "print(type(variable_booleana))\n",
        "print(type(otra_variable_booleana))"
      ]
    },
    {
      "cell_type": "markdown",
      "id": "821ee0d2",
      "metadata": {},
      "source": [
        "Al igual que con las cadenas de texto y los enteros, tampoco puedes sumar por ejemplo booleanos y cadenas de texto. Hay varios operadores para los valores booleanos que aprenderemos más adelante. Ten en cuenta que las palabras `True` y `False` no se escriben entre comillas como cualquier otra cadena de texto. `True` y `False` son de por sí [palabras reservadas en Python](https://ellibrodepython.com/palabras-reservadas-python)."
      ]
    },
    {
      "cell_type": "markdown",
      "id": "9e756bb4",
      "metadata": {},
      "source": [
        "### Combinando y transformando tipos de datos\n",
        "\n",
        "Si no podemos sumar cadenas de texto y booleanos, o enteros y flotantes, ¿cómo podemos imprimirlos juntos en una línea? Una forma podría ser utilizando el truco que aprendimos antes, separando los valores dentro de la función `print()` con comas. Por ejemplo:"
      ]
    },
    {
      "cell_type": "code",
      "execution_count": null,
      "id": "9331d2b2",
      "metadata": {},
      "outputs": [],
      "source": [
        "a = 10\n",
        "b = 5\n",
        "print('El resultado de', a, 'dividido en', b, 'es igual a', a/b)"
      ]
    },
    {
      "cell_type": "markdown",
      "id": "27396228",
      "metadata": {},
      "source": [
        "Otra forma es utilizar la función **`format()`**. Esta función toma una cadena de texto, varios números (de cualquier tipo numérico), y genera una cadena de texto en la que reemplaza los valores numéricos en las posiciones en las que se incluye el simbolo `{}`. Para que quede más claro, aquí tienes el mismo ejemplo anterior,pero esta vez utilizando la función `format()`:"
      ]
    },
    {
      "cell_type": "code",
      "execution_count": null,
      "id": "95e418cd",
      "metadata": {},
      "outputs": [],
      "source": [
        "a = 10\n",
        "b = 5\n",
        "print('El resultado de {} dividido en {} es igual a {}'.format(a, b, a/b))"
      ]
    },
    {
      "cell_type": "markdown",
      "id": "493bf4be",
      "metadata": {},
      "source": [
        "Fíjate en que debemos colocar llaves`{}` como marcadores de posición para los valores numéricos. \n",
        "\n",
        "De forma similar a `format()`, también puedes utilizar el tipo de representación **`f-string`**. Este tipo de representación funciona incluyendo la letra `f` antes de la primera comilla en la función `print()` y ubicando las variables que quieres imprimir directamente dentro de las llaves. Repitiendo nuevamente nuestro ejemplo, la nueva alternativa sería así:"
      ]
    },
    {
      "cell_type": "code",
      "execution_count": null,
      "id": "35f6b9f9",
      "metadata": {},
      "outputs": [],
      "source": [
        "a = 10\n",
        "b = 5\n",
        "print(f'El resultado de {a} dividido en {b} es igual a {a/b}')"
      ]
    },
    {
      "cell_type": "markdown",
      "id": "f8e35ba2",
      "metadata": {},
      "source": [
        "La última forma es transformar los números en cadenas de texto, y luego sumarlos. Para transformar un número en una cadena de texto, debemos utilizar la función `str()`, que toma como entrada un valor o variable que no sea una cadena, y devuelve su representación en forma de cadena de texto:"
      ]
    },
    {
      "cell_type": "code",
      "execution_count": null,
      "id": "6f194937",
      "metadata": {},
      "outputs": [],
      "source": [
        "a = 10\n",
        "b = 5\n",
        "cadena_texto_a = str(a)\n",
        "cadena_texto_b = str(b)\n",
        "\n",
        "print(cadena_texto_a)\n",
        "print(cadena_texto_b)\n",
        "print(type(cadena_texto_a))\n",
        "print(type(cadena_texto_b))\n",
        "print('El resultado de ' + cadena_texto_a + ' dividido en ' + cadena_texto_b + ' es igual a ' + str(a/b))"
      ]
    },
    {
      "cell_type": "markdown",
      "id": "eb94e8e7",
      "metadata": {},
      "source": [
        "Puedes utilizar cualquiera de estos métodos. La forma más *Pythónica* de resolverlo, es decir, la más aceptada en Python, es la que emplea **`f-string`**. Sin embargo todas hacen lo mismo y la que prefieras está bien. Normalmente, la forma más *Pythónica* es la más corta y fácil, pero como sabes, toda regla tiene sus excepciones."
      ]
    },
    {
      "cell_type": "markdown",
      "id": "4e50009c",
      "metadata": {},
      "source": [
        "El último método en el que transformamos una variable de un tipo a otro es muy útil y debes tenerlo en cuenta para el futuro. Puedes transformar números en cadenas de texto, pero también podrías transformar cadenas de texto con números en un tipo de datos numérico para poder operar con ellas. Para ello hay dos funciones principales: la función `int()`, que recibe como parámetro una cadena de texto con un número y devuelve su representación `int`, y la función `float()`, que hace lo mismo pero devuelve un `float`. Veamos un ejemplo de ello:"
      ]
    },
    {
      "cell_type": "code",
      "execution_count": null,
      "id": "a5f65a9c",
      "metadata": {},
      "outputs": [],
      "source": [
        "a = '5'\n",
        "b = '12.57'\n",
        "\n",
        "int_a = int(a)\n",
        "float_b = float(b)\n",
        "\n",
        "print('La multiplicación de a y b es igual a', int_a*float_b)"
      ]
    },
    {
      "cell_type": "markdown",
      "id": "97d50325",
      "metadata": {},
      "source": [
        "Si utilizas la función `int()` con una cadena de texto que tiene un número con decimales, devolverá un error:"
      ]
    },
    {
      "cell_type": "code",
      "execution_count": null,
      "id": "95547705",
      "metadata": {},
      "outputs": [],
      "source": [
        "int_b = int(b)"
      ]
    },
    {
      "cell_type": "markdown",
      "id": "519c75b7",
      "metadata": {},
      "source": [
        "Si aplicas `int()` a un flotante, sólo extraerá la parte entera del mismo (la parte anterior al punto decimal. No redondea, simplemente trunca):"
      ]
    },
    {
      "cell_type": "code",
      "execution_count": null,
      "id": "b97590bd",
      "metadata": {},
      "outputs": [],
      "source": [
        "ejemplo_de_flotante = 15.99\n",
        "print(int(ejemplo_de_flotante))"
      ]
    },
    {
      "cell_type": "markdown",
      "id": "6550137e",
      "metadata": {},
      "source": [
        "También puedes transformar booleanos utilizando estas mismas funciones. La representación `int` de `Verdadero` es 1 y de `Falso` es 0. También puedes transformarlos en cadenas con `str()`. Miremos un ejemplo:"
      ]
    },
    {
      "cell_type": "code",
      "execution_count": null,
      "id": "71059bb7",
      "metadata": {},
      "outputs": [],
      "source": [
        "booleano_verdadero = True\n",
        "print(f'El valor de la variable booleano_verdadero es {str(booleano_verdadero)}')\n",
        "\n",
        "booleano_falso = False\n",
        "print(f'True es evaluado como {int(booleano_verdadero)} y False es evaluado como {int(booleano_falso)} cuando los transformamos en \"int\"')"
      ]
    },
    {
      "cell_type": "markdown",
      "id": "39943f2c",
      "metadata": {},
      "source": [
        "### Ejercicio 5\n",
        "\n",
        "A continuación, encontrarás distintas variables con valores de distintos tipos. Escribe un código que:\n",
        "\n",
        "1.  Transforme cada variable al tipo numérico correcto\n",
        "2.  Las sume\n",
        "3.  Asigne el resultado de la suma a una nueva variable\n",
        "4.  Transforme esta nueva variable a un tipo de dato de cadena de texto\n",
        "5.  Imprima esta cadena de texto junto con la frase escrita a continuación"
      ]
    },
    {
      "cell_type": "code",
      "execution_count": null,
      "id": "ad8f6164",
      "metadata": {},
      "outputs": [],
      "source": [
        "a = True\n",
        "b = '12'\n",
        "c = '5.67'\n",
        "\n",
        "# Transforma estas variables en un tipo de dato numérico y súmelas\n",
        "\n",
        "# Ahora, transforma el resultado en una cadena. ¡Asegúrate de asignar el resultado a una nueva variable!\n",
        "\n",
        "# Finalmente, imprima su resultado editando la siguiente declaración de impresión. ¡No utilice una declaración de impresión nueva!\n",
        "\n",
        "print('El resultado de la suma es...')"
      ]
    },
    {
      "cell_type": "markdown",
      "id": "d85b2883",
      "metadata": {
        "tags": [
          "ans_st"
        ]
      },
      "source": [
        "**Respuesta.**"
      ]
    },
    {
      "cell_type": "markdown",
      "id": "ac6aac6c",
      "metadata": {},
      "source": [
        "-------"
      ]
    },
    {
      "cell_type": "markdown",
      "id": "5aab5df8",
      "metadata": {},
      "source": [
        "Tipos de datos compuestos\n",
        "-------------------------\n",
        "\n",
        "Ya conoces los tipos de datos básicos de Python. Hay otra clase importante de tipos de datos que aún no hemos mencionado: los **tipos compuestos**. Son tipos de datos que combinan varios valores en una sola variable, de ahí el nombre de *compuestos*.\n",
        "\n",
        "Al igual que con los tipos de datos básicos, hay varias clases de tipos compuestos. Los dos más comunes son la **lista** y el **diccionario**. En este caso, veremos las listas y cómo funcionan en Python."
      ]
    },
    {
      "cell_type": "markdown",
      "id": "cc4e8880",
      "metadata": {},
      "source": [
        "### Listas\n",
        "\n",
        "La lista es un conjunto de valores (comúnmente, pero no necesariamente, del mismo tipo de datos) que se agrupan en un orden determinado. En Python, decimos que una *lista* tiene un grupo de *elementos*.\n",
        "\n",
        "La sintaxis para definir una lista es sencilla: coloca tu grupo de valores entre corchetes y separados por comas, así:"
      ]
    },
    {
      "cell_type": "code",
      "execution_count": null,
      "id": "d71e8c49",
      "metadata": {},
      "outputs": [],
      "source": [
        "[1,2,3,4,5,6]"
      ]
    },
    {
      "cell_type": "markdown",
      "id": "882e4e93",
      "metadata": {},
      "source": [
        "Acabamos de crear una lista con 6 valores `int`. Las listas pueden asignarse a una variable, igual que los tipos de datos básicos:"
      ]
    },
    {
      "cell_type": "code",
      "execution_count": null,
      "id": "fb42dda3",
      "metadata": {},
      "outputs": [],
      "source": [
        "nuestra_lista = [1,2,3,4,5,6]\n",
        "print(nuestra_lista)"
      ]
    },
    {
      "cell_type": "markdown",
      "id": "86a57f43",
      "metadata": {},
      "source": [
        "Las listas pueden contener cualquier cantidad de valores, y los valores pueden ser de cualquier tipo. No se considera una buena práctica mezclar más de un tipo de datos en la misma lista, sin embargo hay algunas excepciones:"
      ]
    },
    {
      "cell_type": "code",
      "execution_count": null,
      "id": "09c5ffd8",
      "metadata": {},
      "outputs": [],
      "source": [
        "otra_lista = [True,'dos',3.54, 4]\n",
        "print(otra_lista)"
      ]
    },
    {
      "cell_type": "markdown",
      "id": "e170787e",
      "metadata": {},
      "source": [
        "En los siguientes casos, conocerás multiples formas en que puedes utilizar las listas."
      ]
    },
    {
      "cell_type": "markdown",
      "id": "52441356",
      "metadata": {},
      "source": [
        "Crear y ejecutar programas en Python que no sean un cuaderno de Jupyter\n",
        "--------------------------------------------------------\n",
        "\n",
        "En la última sección de este caso, aprenderemos a crear y ejecutar programas en Python que no estén incluidos al interior de un cuaderno de Jupyter. Aunque los cuadernos Jupyter son muy buenos para aprender y compartir métodos y resultados, no son tan eficientes fuera de su entorno.\n",
        "\n",
        "Los programas de Python (también llamados **scripts**) suelen tener el formato de archivo `.py` (evidentemente su nombre proviene de 'Python'). El código no es más que un archivo de texto que tu computador puede leer. Así que lo único que tenemos que hacer es crear un nuevo archivo de texto y nombrarlo con la extensión `.py` al final.\n",
        "\n",
        "Crea un nuevo archivo de texto que esté en la misma carpeta que el cuaderno de Jupyter de este caso. Llámalo `hola_mundo.py`:\n",
        "\n",
        "![Nuevo archivo](data/images/newFile_es_jl.gif)"
      ]
    },
    {
      "cell_type": "markdown",
      "id": "0a6e937e",
      "metadata": {},
      "source": [
        "Ahora, copia el fragmento de texto de la siguiente celda de código y pégalo dentro del archivo de texto que has creado, y luego guárdalo:\n"
      ]
    },
    {
      "cell_type": "code",
      "execution_count": null,
      "id": "e2b1579a",
      "metadata": {},
      "outputs": [],
      "source": [
        "print('¡Hola Mundo!') "
      ]
    },
    {
      "cell_type": "markdown",
      "id": "ded57ad5",
      "metadata": {},
      "source": [
        "Por último, realiza un clic derecho sobre tu editor en el archivo `hola_mundo.py`, y selecciona `Crear consola para el editor` selecciona el código y ve al menú `Run` y selecciona `Ejecutar código`\n",
        "\n",
        "\n",
        "Ahora deberías ver `¡Hola Mundo!` en tu consola."
      ]
    },
    {
      "cell_type": "markdown",
      "id": "62053bf3",
      "metadata": {},
      "source": [
        "![¡Hola Mundo!](data/images/helloWorld_es_jl.gif)"
      ]
    },
    {
      "cell_type": "markdown",
      "id": "a7b95595",
      "metadata": {},
      "source": [
        "Conclusión\n",
        "----------\n",
        "\n",
        "En este caso has aprendido los cuatro componentes básicos de Python: **valores**, **variables**, **operadores** y **funciones**. También has visto un par de reglas sintácticas importantes de Python, sus tipos de datos más comunes y cómo transformar un tipo de datos en otro.\n",
        "\n",
        "También aprendiste sobre las listas (un tipo compuesto de datos) y sobre cómo crear o exportar scripts de Python puros fuera de un cuaderno de Jupyter.\n",
        "\n",
        "En los siguientes casos aprenderás más sobre estos tipos de datos y cómo operar con ellos. ¡Felicitaciones por haber llegado hasta aquí! Muy pronto serás un experto en Python 😎."
      ]
    },
    {
      "cell_type": "markdown",
      "id": "7cabf75a",
      "metadata": {},
      "source": [
        "Créditos\n",
        "--------\n",
        "\"HelloWorld.svg\", Dec 13, 2009, Wooptoo, Public Domain, https://en.wikipedia.org/wiki/File:HelloWorld.svg"
      ]
    }
  ],
  "metadata": {
    "kernelspec": {
      "display_name": "Python 3.11.0 64-bit",
      "language": "python",
      "name": "python3"
    },
    "language_info": {
      "codemirror_mode": {
        "name": "ipython",
        "version": 3
      },
      "file_extension": ".py",
      "mimetype": "text/x-python",
      "name": "python",
      "nbconvert_exporter": "python",
      "pygments_lexer": "ipython3",
      "version": "3.11.0"
    },
    "varInspector": {
      "cols": {
        "lenName": 16,
        "lenType": 16,
        "lenVar": 40
      },
      "kernels_config": {
        "python": {
          "delete_cmd_postfix": "",
          "delete_cmd_prefix": "del ",
          "library": "var_list.py",
          "varRefreshCmd": "print(var_dic_list())"
        },
        "r": {
          "delete_cmd_postfix": ") ",
          "delete_cmd_prefix": "rm(",
          "library": "var_list.r",
          "varRefreshCmd": "cat(var_dic_list()) "
        }
      },
      "types_to_exclude": [
        "module",
        "function",
        "builtin_function_or_method",
        "instance",
        "_Feature"
      ],
      "window_display": false
    },
    "vscode": {
      "interpreter": {
        "hash": "46ec2bce6c89329c2b84ed8fc84eba2edf6492d2ca86092aa48718dbef1077ab"
      }
    }
  },
  "nbformat": 4,
  "nbformat_minor": 5
}
